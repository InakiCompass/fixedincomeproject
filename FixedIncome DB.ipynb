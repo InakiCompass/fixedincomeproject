{
 "cells": [
  {
   "cell_type": "code",
   "execution_count": null,
   "metadata": {},
   "outputs": [],
   "source": [
    "\n",
    " "
   ]
  },
  {
   "cell_type": "code",
   "execution_count": 19,
   "metadata": {},
   "outputs": [],
   "source": [
    "import sqlite3\n",
    "from sqlite3 import Error\n",
    "import pandas as pd\n",
    "import urllib\n",
    "import sqlalchemy\n",
    "conn = sqlite3.connect('Fixed_Income.db')  # You can create a new database by changing the name within the quotes\n",
    "c = conn.cursor()"
   ]
  },
  {
   "cell_type": "code",
   "execution_count": 31,
   "metadata": {},
   "outputs": [
    {
     "data": {
      "text/plain": [
       "<sqlite3.Cursor at 0x15d7d40ece0>"
      ]
     },
     "execution_count": 31,
     "metadata": {},
     "output_type": "execute_result"
    }
   ],
   "source": [
    "c=conn.cursor()\n",
    "\n",
    "#create fundamental table\n",
    "c.execute('''CREATE TABLE IF NOT EXISTS f_data (\n",
    "    f_data_Company TEXT PRIMARY KEY,\n",
    "    f_data_Id INTEGER,\n",
    "    f_data_Country TEXT NOT NULL,\n",
    "    f_data_Sector TEXT NOT NULL,\n",
    "    f_data_Character TEXT NOT NULL,\n",
    "    f_data_Period TEXT NOT NULL,\n",
    "    f_data_Source TEXT NOT NULL,\n",
    "    f_data_Bloomberg_ticker TEXT NOT NULL,\n",
    "    f_data_Account TEXT NOT NULL,\n",
    "    f_data_Value NUMERIC)''')\n",
    "\n",
    "#create z spread table\n",
    "c.execute('''CREATE TABLE IF NOT EXISTS z_spread (\n",
    "    z_spread_Id INTEGER PRIMARY KEY AUTOINCREMENT,\n",
    "    z_spread_Security_Name TEXT,\n",
    "    z_spread_Issuer_Name TEXT,\n",
    "    z_spread_variable TEXT,\n",
    "    z_spread_Value NUMERIC)''')\n",
    "\n",
    "#create mkt table\n",
    "c.execute('''CREATE TABLE IF NOT EXISTS mkt_data (\n",
    "    mkt_data_Id INTEGER,\n",
    "    mkt_data_Ticker TEXT,\n",
    "    mkt_data_Security_Name TEXT,\n",
    "    mkt_data_Cntry_Of_Risk TEXT,\n",
    "    mkt_data_Crncy TEXT,\n",
    "    mkt_data_Callable TEXT,\n",
    "    mkt_data_Floater TEXT,\n",
    "    mkt_data_Fixed TEXT,\n",
    "    mkt_data_Sinkable TEXT,\n",
    "    mkt_data_Industry_Sector TEXT,\n",
    "    mkt_data_Industry_Group TEXT,\n",
    "    mkt_data_Rtg_Sp TEXT,\n",
    "    mkt_data_Rtg_Moody TEXT,\n",
    "    mkt_data_Rtg_Fitch TEXT,\n",
    "    mkt_data_Rtg_Bb_Comp TEXT,\n",
    "    mkt_data_SandP_Transformado TEXT,\n",
    "    mkt_data_Moodys_Transformado TEXT,\n",
    "    mkt_data_Fitch_Transformado TEXT,\n",
    "    mkt_data_Rtg_CG TEXT,\n",
    "    mkt_data_RTG_GRUPO TEXT,\n",
    "    mkt_data_Ticker1 TEXT,\n",
    "    mkt_data_Listed_Equity TEXT,\n",
    "    mkt_data_Listed_Equity_2 TEXT,\n",
    "    mkt_data_PaisLE TEXT,\n",
    "    mkt_data_RTGLE TEXT,\n",
    "    mkt_data_ID_ISIN TEXT,\n",
    "    mkt_data_Ttrace TEXT,\n",
    "    mkt_data_TraceIsin TEXT,\n",
    "    mkt_data_Ticker_2 TEXT,\n",
    "    mkt_data_Account TEXT,\n",
    "    mkt_data_Value NUMERIC)''')\n"
   ]
  },
  {
   "cell_type": "code",
   "execution_count": null,
   "metadata": {},
   "outputs": [],
   "source": []
  },
  {
   "cell_type": "code",
   "execution_count": null,
   "metadata": {},
   "outputs": [],
   "source": []
  }
 ],
 "metadata": {
  "kernelspec": {
   "display_name": "Python 3",
   "language": "python",
   "name": "python3"
  },
  "language_info": {
   "codemirror_mode": {
    "name": "ipython",
    "version": 3
   },
   "file_extension": ".py",
   "mimetype": "text/x-python",
   "name": "python",
   "nbconvert_exporter": "python",
   "pygments_lexer": "ipython3",
   "version": "3.7.3"
  }
 },
 "nbformat": 4,
 "nbformat_minor": 2
}
