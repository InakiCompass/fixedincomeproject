{
 "cells": [
  {
   "cell_type": "code",
   "execution_count": null,
   "metadata": {},
   "outputs": [],
   "source": []
  },
  {
   "cell_type": "code",
   "execution_count": 11,
   "metadata": {},
   "outputs": [],
   "source": [
    "import sqlite3\n",
    "from sqlite3 import Error\n",
    "import pandas as pd\n",
    "import urllib\n",
    "import sqlalchemy\n",
    "conn = sqlite3.connect('Fixed_Income_DB500.db')\n",
    "c = conn.cursor()"
   ]
  },
  {
   "cell_type": "code",
   "execution_count": 12,
   "metadata": {},
   "outputs": [
    {
     "data": {
      "text/plain": [
       "<sqlite3.Cursor at 0x213dea7e3b0>"
      ]
     },
     "execution_count": 12,
     "metadata": {},
     "output_type": "execute_result"
    }
   ],
   "source": [
    "c=conn.cursor()\n",
    "\n",
    "#create issuer table\n",
    "c.execute('''CREATE TABLE IF NOT EXISTS issuer (\n",
    "    issuer_Id TEXT PRIMARY KEY NOT NULL,\n",
    "    issuer_Company TEXT,\n",
    "    issuer_Country TEXT,\n",
    "    issuer_Compass_Alias TEXT)''')\n",
    "\n",
    "#create security table\n",
    "c.execute('''CREATE TABLE IF NOT EXISTS security (\n",
    "    Sec_Compass_Id TEXT PRIMARY KEY NOT NULL,\n",
    "    Sec_Issuer_Id TEXT,\n",
    "    Sec_Bbg_Ticker TEXT,\n",
    "    Sec_Inst_Type TEXT,\n",
    "    Sec_Local_Id TEXT,\n",
    "    Sec_Isin TEXT,\n",
    "    Sec_Figi TEXT,\n",
    "    Sec_Sedol TEXT,\n",
    "    Sec_Unique_Identifier TEXT,\n",
    "    Sec_Name TEXT,\n",
    "    FOREIGN KEY (Sec_Issuer_Id) REFERENCES issuer (issuer_Id) )''')\n",
    "\n",
    "#create fundamental table\n",
    "c.execute('''CREATE TABLE IF NOT EXISTS f_data (\n",
    "    f_data_Id INTEGER PRIMARY KEY AUTOINCREMENT NOT NULL,\n",
    "    f_data_issuer_Company TEXT,\n",
    "    f_data_Sector TEXT,\n",
    "    f_data_Character TEXT,\n",
    "    f_data_Period TEXT,\n",
    "    f_data_Source TEXT,\n",
    "    f_data_Account TEXT,\n",
    "    f_data_Value NUMERIC,\n",
    "    FOREIGN KEY (f_data_issuer_Company) REFERENCES issuer (issuer_Id))''')\n",
    "\n",
    "#create z spread table\n",
    "c.execute('''CREATE TABLE IF NOT EXISTS z_spread (\n",
    "    z_spread_Id INTEGER PRIMARY KEY AUTOINCREMENT NOT NULL,\n",
    "    z_spread_Ticker TEXT,\n",
    "    z_spread_sec_Security_Name TEXT,\n",
    "    z_spread_Date TEXT,\n",
    "    z_spread_Value NUMERIC,\n",
    "    FOREIGN KEY (z_spread_sec_Security_Name) REFERENCES security (Sec_Name)\n",
    "    )''')\n",
    "\n",
    "#create mkt table\n",
    "c.execute('''CREATE TABLE IF NOT EXISTS mkt_data (\n",
    "    mkt_data_Id INTEGER PRIMARY KEY,\n",
    "    mkt_data_Ticker TEXT,\n",
    "    mkt_data_sec_Security_Name TEXT,\n",
    "    mkt_data_Cntry_Of_Risk TEXT,\n",
    "    mkt_data_Crncy TEXT,\n",
    "    mkt_data_Callable TEXT,\n",
    "    mkt_data_Floater TEXT,\n",
    "    mkt_data_Fixed TEXT,\n",
    "    mkt_data_Sinkable TEXT,\n",
    "    mkt_data_Industry_Sector TEXT,\n",
    "    mkt_data_Industry_Group TEXT,\n",
    "    mkt_data_Rtg_Sp TEXT,\n",
    "    mkt_data_Rtg_Moody TEXT,\n",
    "    mkt_data_Rtg_Fitch TEXT,\n",
    "    mkt_data_Rtg_Bb_Comp TEXT,\n",
    "    mkt_data_SandP_Transformado TEXT,\n",
    "    mkt_data_Moodys_Transformado TEXT,\n",
    "    mkt_data_Fitch_Transformado TEXT,\n",
    "    mkt_data_Rtg_CG TEXT,\n",
    "    mkt_data_RTG_GRUPO TEXT,\n",
    "    mkt_data_Listed_Equity TEXT,\n",
    "    mkt_data_Listed_Equity_2 TEXT,\n",
    "    mkt_data_PaisLE TEXT,\n",
    "    mkt_data_RTGLE TEXT,\n",
    "    mkt_data_ID_ISIN TEXT,\n",
    "    mkt_data_Ttrace TEXT,\n",
    "    mkt_data_TraceIsin TEXT,\n",
    "    mkt_data_Ticker_2 TEXT,\n",
    "    mkt_data_Account TEXT,\n",
    "    mkt_data_Value NUMERIC,\n",
    "    FOREIGN KEY (mkt_data_sec_Security_Name) REFERENCES security (Sec_Bbg_Ticker))''')"
   ]
  },
  {
   "cell_type": "code",
   "execution_count": null,
   "metadata": {},
   "outputs": [],
   "source": []
  },
  {
   "cell_type": "code",
   "execution_count": null,
   "metadata": {},
   "outputs": [],
   "source": []
  },
  {
   "cell_type": "code",
   "execution_count": null,
   "metadata": {},
   "outputs": [],
   "source": []
  }
 ],
 "metadata": {
  "kernelspec": {
   "display_name": "Python 3",
   "language": "python",
   "name": "python3"
  },
  "language_info": {
   "codemirror_mode": {
    "name": "ipython",
    "version": 3
   },
   "file_extension": ".py",
   "mimetype": "text/x-python",
   "name": "python",
   "nbconvert_exporter": "python",
   "pygments_lexer": "ipython3",
   "version": "3.7.3"
  }
 },
 "nbformat": 4,
 "nbformat_minor": 2
}
